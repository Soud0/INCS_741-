{
  "nbformat": 4,
  "nbformat_minor": 0,
  "metadata": {
    "colab": {
      "provenance": []
    },
    "kernelspec": {
      "name": "python3",
      "display_name": "Python 3"
    },
    "language_info": {
      "name": "python"
    }
  },
  "cells": [
    {
      "cell_type": "code",
      "execution_count": null,
      "metadata": {
        "colab": {
          "base_uri": "https://localhost:8080/"
        },
        "id": "cYSwjigGBRN-",
        "outputId": "97585ce2-46f1-468e-cbd4-78de7576b89d"
      },
      "outputs": [
        {
          "output_type": "stream",
          "name": "stdout",
          "text": [
            "Enter the message: CRYPTOLOGY IS THE PRACTICE AND STUDY OF TECHNIQUES FOR SECURE COMMUNICATION IN THE PRESENCE OF THIRD PARTIES CALLED ADVERSARIES\n",
            "Enter the key as a tuple (d,r): 4,5\n",
            "Encrypted message: cnoaopittdfcsageuhrsslpreoshytceenmsecvciddafaoecrrohsqeehtnsuepmcyttictareenelrodiscdriinireprltyiiaounueatf\n"
          ]
        }
      ],
      "source": [
        "def encrypt_rail_fence_cipher(text, d):\n",
        "    matrix = [['' for _ in range(len(text))] for _ in range(d)]\n",
        "\n",
        "    row, col = 0, 0\n",
        "    downward = False\n",
        "\n",
        "    for char in text:\n",
        "        if row == 0 or row == d - 1:\n",
        "            downward = not downward\n",
        "\n",
        "        matrix[row][col] = char\n",
        "        col += 1\n",
        "\n",
        "        if downward:\n",
        "            row += 1\n",
        "        else:\n",
        "            row -= 1\n",
        "\n",
        "    ciphertext = ''.join([''.join(row) for row in matrix])\n",
        "    return ciphertext\n",
        "\n",
        "def main():\n",
        "    # Take inputs for the message and the key tuple (d, r)\n",
        "    message = input(\"Enter the message: \").replace(\" \", \"\").lower()\n",
        "    d, r = map(int, input(\"Enter the key as a tuple (d,r): \").strip(\"()\").split(\",\"))\n",
        "\n",
        "    # Encrypt the message 'r' times\n",
        "    encrypted_message = message\n",
        "    for _ in range(r):\n",
        "        encrypted_message = encrypt_rail_fence_cipher(encrypted_message, d)\n",
        "\n",
        "    print(f\"Encrypted message: {encrypted_message}\")\n",
        "\n",
        "if __name__ == \"__main__\":\n",
        "    main()\n"
      ]
    },
    {
      "cell_type": "code",
      "source": [
        "def decrypt_rail_fence_cipher(ciphertext, d):\n",
        "    matrix = [['' for _ in range(len(ciphertext))] for _ in range(d)]\n",
        "\n",
        "    # Mark the positions in the matrix where characters from the ciphertext will be placed\n",
        "    row, col = 0, 0\n",
        "    downward = False\n",
        "\n",
        "    for _ in ciphertext:\n",
        "        if row == 0 or row == d - 1:\n",
        "            downward = not downward\n",
        "\n",
        "        matrix[row][col] = '*'\n",
        "        col += 1\n",
        "\n",
        "        if downward:\n",
        "            row += 1\n",
        "        else:\n",
        "            row -= 1\n",
        "\n",
        "    # Fill the matrix with characters from the ciphertext\n",
        "    idx = 0\n",
        "    for r in range(d):\n",
        "        for c in range(len(ciphertext)):\n",
        "            if matrix[r][c] == '*' and idx < len(ciphertext):\n",
        "                matrix[r][c] = ciphertext[idx]\n",
        "                idx += 1\n",
        "\n",
        "    # Extract the original message from the matrix in a zigzag pattern\n",
        "    plaintext = []\n",
        "    row, col = 0, 0\n",
        "    downward = False\n",
        "\n",
        "    for _ in range(len(ciphertext)):\n",
        "        if row == 0 or row == d - 1:\n",
        "            downward = not downward\n",
        "\n",
        "        plaintext.append(matrix[row][col])\n",
        "        col += 1\n",
        "\n",
        "        if downward:\n",
        "            row += 1\n",
        "        else:\n",
        "            row -= 1\n",
        "\n",
        "    return ''.join(plaintext)\n",
        "\n",
        "def main():\n",
        "    # Take inputs for the encrypted message and the key tuple (d, r)\n",
        "    encrypted_message = input(\"Enter the encrypted message: \").lower()\n",
        "    d, r = map(int, input(\"Enter the key as a tuple (d,r): \").strip(\"()\").split(\",\"))\n",
        "\n",
        "    # Decrypt the message 'r' times\n",
        "    decrypted_message = encrypted_message\n",
        "    for _ in range(r):\n",
        "        decrypted_message = decrypt_rail_fence_cipher(decrypted_message, d)\n",
        "\n",
        "    print(f\"Decrypted message: {decrypted_message}\")\n",
        "\n",
        "if __name__ == \"__main__\":\n",
        "    main()\n"
      ],
      "metadata": {
        "colab": {
          "base_uri": "https://localhost:8080/"
        },
        "id": "WLD1rDtcDRsV",
        "outputId": "e91c0604-9940-48f9-c99e-3e643b87b504"
      },
      "execution_count": null,
      "outputs": [
        {
          "output_type": "stream",
          "name": "stdout",
          "text": [
            "Enter the encrypted message: TPSNIONFRMHANOIREEOIBTSEAKLAPSEHISOBPEGTBRQREPTTMHRTHTTAWE AACTFVAECAOLHANSEEKFHALOITUEEAICNLEYOLTOLEPADFKATATSJMSIINSH ROCTITRIEEAKYNHYUEOTTSTATSIIRSARERUYUEDPCLETEROINEIYEHC\n",
            "Enter the key as a tuple (d,r): 3,3\n",
            "Decrypted message: thoiaoaktndeeirferlrtpthshpocnraktesniclsipiaseophpaaemieysbohitptarontujoctl qettdetgteoueshreayafriefimnleaohctwkusthnrehancelseayrivesfekstrym tuibsoboileialnaaeeyatirtaetc\n"
          ]
        }
      ]
    }
  ]
}